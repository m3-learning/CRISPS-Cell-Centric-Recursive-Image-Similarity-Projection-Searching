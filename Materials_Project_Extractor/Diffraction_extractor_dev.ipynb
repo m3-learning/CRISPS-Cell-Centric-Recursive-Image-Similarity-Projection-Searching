{
 "cells": [
  {
   "cell_type": "code",
   "execution_count": 1,
   "metadata": {},
   "outputs": [],
   "source": [
    "import matplotlib.pyplot as plt\n",
    "import tem"
   ]
  },
  {
   "cell_type": "code",
   "execution_count": 11,
   "metadata": {},
   "outputs": [
    {
     "name": "stderr",
     "output_type": "stream",
     "text": [
      "Retrieving MaterialsDoc documents: 100%|██████████| 1/1 [00:00<?, ?it/s]\n",
      "c:\\Users\\Joshua Agar\\.conda\\envs\\CRISP\\lib\\site-packages\\mp_api\\client\\core\\client.py:870: UserWarning:\n",
      "\n",
      "Document primary key has changed from mp-779827 to mp-778015, returning data for mp-778015 in materials route.    \n",
      "\n",
      "Retrieving MaterialsDoc documents: 100%|██████████| 1/1 [00:00<?, ?it/s]\n"
     ]
    }
   ],
   "source": [
    "from mp_api.client import MPRester\n",
    "from pymatgen.analysis.diffraction.xrd import XRDCalculator\n",
    "from pymatgen.analysis.diffraction.tem import TEMCalculator\n",
    "from pymatgen.symmetry.analyzer import SpacegroupAnalyzer\n",
    "\n",
    "with MPRester(api_key='e490iJw7D4f7F0Z0kfNVYKtyWeYGmMM7') as mpr:\n",
    "    # first retrieve the relevant structure\n",
    "    structure = mpr.get_structure_by_material_id('mp-779827')\n",
    "\n",
    "# important to use the conventional structure to ensure\n",
    "# that peaks are labelled with the conventional Miller indices\n",
    "sga = SpacegroupAnalyzer(structure)\n",
    "conventional_structure = sga.get_conventional_standard_structure()\n",
    "\n",
    "# this example shows how to obtain an XRD diffraction pattern\n",
    "# these patterns are calculated on-the-fly from the structure\n",
    "calculator = tem.TEMCalculator(beam_direction = [1,0,1])\n",
    "pattern = calculator.get_pattern(structure)"
   ]
  },
  {
   "cell_type": "code",
   "execution_count": 12,
   "metadata": {},
   "outputs": [],
   "source": [
    "fig = calculator.get_plot_2d(structure)\n",
    "fig.write_image(\"fig1.png\")"
   ]
  },
  {
   "cell_type": "code",
   "execution_count": 25,
   "metadata": {},
   "outputs": [
    {
     "name": "stderr",
     "output_type": "stream",
     "text": [
      "c:\\Users\\Joshua Agar\\.conda\\envs\\CRISP\\lib\\site-packages\\mp_api\\client\\client.py:139: UserWarning:\n",
      "\n",
      "mpcontribs-client not installed. Install the package to query MPContribs data, or construct pourbaix diagrams: 'pip install mpcontribs-client'\n",
      "\n",
      "Retrieving SummaryDoc documents: 100%|██████████| 3/3 [00:00<?, ?it/s]\n"
     ]
    }
   ],
   "source": [
    "with MPRester('e490iJw7D4f7F0Z0kfNVYKtyWeYGmMM7') as mpr:\n",
    "    docs = mpr.summary.search(material_ids=[\"mp-149\", \"mp-13\", \"mp-22526\"])"
   ]
  },
  {
   "cell_type": "code",
   "execution_count": 26,
   "metadata": {},
   "outputs": [],
   "source": [
    "dict = docs[0].dict()"
   ]
  },
  {
   "cell_type": "code",
   "execution_count": 27,
   "metadata": {},
   "outputs": [
    {
     "data": {
      "text/plain": [
       "{'builder_meta': {'emmet_version': '0.18.0',\n",
       "  'pymatgen_version': '2022.0.16',\n",
       "  'pull_request': 644,\n",
       "  'database_version': '2021.11.10',\n",
       "  'build_date': datetime.datetime(2021, 11, 28, 1, 38, 3, 8000)},\n",
       " 'nsites': 4,\n",
       " 'elements': [Element Co, Element Li, Element O],\n",
       " 'nelements': 3,\n",
       " 'composition': Comp: Li1 Co1 O2,\n",
       " 'composition_reduced': Comp: Li1 Co1 O2,\n",
       " 'formula_pretty': 'LiCoO2',\n",
       " 'formula_anonymous': 'ABC2',\n",
       " 'chemsys': 'Co-Li-O',\n",
       " 'volume': 33.003036043056845,\n",
       " 'density': 4.924453966920346,\n",
       " 'density_atomic': 8.250759010764211,\n",
       " 'symmetry': {'crystal_system': <CrystalSystem.trig: 'Trigonal'>,\n",
       "  'symbol': 'R-3m',\n",
       "  'number': 166,\n",
       "  'point_group': '-3m',\n",
       "  'symprec': 0.1,\n",
       "  'version': '1.16.2'},\n",
       " 'property_name': 'summary',\n",
       " 'material_id': MPID(mp-22526),\n",
       " 'deprecated': False,\n",
       " 'last_updated': datetime.datetime(2021, 11, 28, 1, 38, 3, 9000),\n",
       " 'origins': [],\n",
       " 'warnings': [],\n",
       " 'structure': Structure Summary\n",
       " Lattice\n",
       "     abc : 4.99271312212929 4.99271312212929 4.992712864249255\n",
       "  angles : 33.08240584153961 33.08240584153961 33.08239839397432\n",
       "  volume : 33.003036043056845\n",
       "       A : 4.786091 -1.421449 0.0\n",
       "       B : 4.786091 1.421449 0.0\n",
       "       C : 4.363926 0.0 2.425558\n",
       "     pbc : True True True\n",
       " PeriodicSite: Li (0.0000, 0.0000, 0.0000) [0.0000, 0.0000, 0.0000]\n",
       " PeriodicSite: Co (6.9681, 0.0000, 1.2128) [0.5000, 0.5000, 0.5000]\n",
       " PeriodicSite: O (10.5972, 0.0000, 1.8444) [0.7604, 0.7604, 0.7604]\n",
       " PeriodicSite: O (3.3389, 0.0000, 0.5811) [0.2396, 0.2396, 0.2396],\n",
       " 'task_ids': [MPID(mp-796543),\n",
       "  MPID(mp-835722),\n",
       "  MPID(mp-1065773),\n",
       "  MPID(mp-818954),\n",
       "  MPID(mp-1063798),\n",
       "  MPID(mp-1791684),\n",
       "  MPID(mp-1065755),\n",
       "  MPID(mp-1440590),\n",
       "  MPID(mp-1065454),\n",
       "  MPID(mp-1065742),\n",
       "  MPID(mp-1774422),\n",
       "  MPID(mp-1065763),\n",
       "  MPID(mp-1063771),\n",
       "  MPID(mp-1065445),\n",
       "  MPID(mp-1063787),\n",
       "  MPID(mp-22526),\n",
       "  MPID(mp-24850),\n",
       "  MPID(mp-818806),\n",
       "  MPID(mp-1686614),\n",
       "  MPID(mp-834962),\n",
       "  MPID(mp-601860),\n",
       "  MPID(mp-545819),\n",
       "  MPID(mp-1063794),\n",
       "  MPID(mp-668942),\n",
       "  MPID(mp-561934),\n",
       "  MPID(mp-1100475),\n",
       "  MPID(mp-825330),\n",
       "  MPID(mp-1065436),\n",
       "  MPID(mp-1065451)],\n",
       " 'uncorrected_energy_per_atom': -5.7272160125,\n",
       " 'energy_per_atom': -6.4802160125,\n",
       " 'formation_energy_per_atom': -1.7519253445833334,\n",
       " 'energy_above_hull': 0.0,\n",
       " 'is_stable': True,\n",
       " 'equilibrium_reaction_energy_per_atom': -0.09490558593750009,\n",
       " 'band_gap': 0.6684000000000001,\n",
       " 'cbm': 4.4882,\n",
       " 'vbm': 3.8198,\n",
       " 'efermi': 3.98131748,\n",
       " 'is_gap_direct': False,\n",
       " 'is_metal': False,\n",
       " 'es_source_calc_id': MPID(mp-796543),\n",
       " 'is_magnetic': False,\n",
       " 'ordering': 'NM',\n",
       " 'total_magnetization': 9.6e-06,\n",
       " 'total_magnetization_normalized_vol': 2.9088232935526065e-07,\n",
       " 'total_magnetization_normalized_formula_units': 9.6e-06,\n",
       " 'num_magnetic_sites': 0,\n",
       " 'num_unique_magnetic_sites': 0,\n",
       " 'types_of_magnetic_species': [],\n",
       " 'possible_species': ['Co3+', 'Li+', 'O2-'],\n",
       " 'has_props': [<HasProps.thermo: 'thermo'>,\n",
       "  <HasProps.oxi_states: 'oxi_states'>,\n",
       "  <HasProps.charge_density: 'charge_density'>,\n",
       "  <HasProps.materials: 'materials'>,\n",
       "  <HasProps.provenance: 'provenance'>,\n",
       "  <HasProps.magnetism: 'magnetism'>,\n",
       "  <HasProps.insertion_electrodes: 'insertion_electrodes'>,\n",
       "  <HasProps.electronic_structure: 'electronic_structure'>],\n",
       " 'theoretical': False,\n",
       " 'fields_not_requested': ['deprecation_reasons',\n",
       "  'decomposes_to',\n",
       "  'xas',\n",
       "  'grain_boundaries',\n",
       "  'bandstructure',\n",
       "  'dos',\n",
       "  'dos_energy_up',\n",
       "  'dos_energy_down',\n",
       "  'k_voigt',\n",
       "  'k_reuss',\n",
       "  'k_vrh',\n",
       "  'g_voigt',\n",
       "  'g_reuss',\n",
       "  'g_vrh',\n",
       "  'universal_anisotropy',\n",
       "  'homogeneous_poisson',\n",
       "  'e_total',\n",
       "  'e_ionic',\n",
       "  'e_electronic',\n",
       "  'n',\n",
       "  'e_ij_max',\n",
       "  'weighted_surface_energy_EV_PER_ANG2',\n",
       "  'weighted_surface_energy',\n",
       "  'weighted_work_function',\n",
       "  'surface_anisotropy',\n",
       "  'shape_factor',\n",
       "  'has_reconstructed']}"
      ]
     },
     "execution_count": 27,
     "metadata": {},
     "output_type": "execute_result"
    }
   ],
   "source": [
    "dict"
   ]
  },
  {
   "cell_type": "code",
   "execution_count": 28,
   "metadata": {},
   "outputs": [
    {
     "name": "stderr",
     "output_type": "stream",
     "text": [
      "Retrieving ElasticityDoc documents: 100%|██████████| 1/1 [00:00<?, ?it/s]\n"
     ]
    }
   ],
   "source": [
    " bs_sc = mpr.elasticity.get_data_by_id('mp-13')"
   ]
  },
  {
   "cell_type": "code",
   "execution_count": 29,
   "metadata": {},
   "outputs": [
    {
     "data": {
      "text/plain": [
       "\u001b[4m\u001b[1mMPDataDoc<ElasticityDoc>\u001b[0;0m\u001b[0;0m(\n",
       "\u001b[1mpretty_formula\u001b[0;0m='Fe',\n",
       "\u001b[1mchemsys\u001b[0;0m='Fe',\n",
       "\u001b[1melasticity\u001b[0;0m=ElasticityData(k_voigt=182.45924080846518, k_reuss=182.4592408084652, k_vrh=182.4592408084652, g_voigt=77.8373141897068, g_reuss=69.37863840687754, g_vrh=73.60797629829217, universal_anisotropy=0.6096023197531331, homogeneous_poisson=0.3221988611422646, elastic_tensor=[[247.0, 150.0, 150.0, 0.0, 0.0, 0.0], [150.0, 247.0, 150.0, 0.0, 0.0, -0.0], [150.0, 150.0, 247.0, 0.0, 0.0, 0.0], [0.0, 0.0, 0.0, 97.0, 0.0, 0.0], [0.0, 0.0, 0.0, 0.0, 97.0, 0.0], [0.0, -0.0, 0.0, 0.0, 0.0, 97.0]], compliance_tensor=[[7.5, -2.8, -2.8, 0.0, 0.0, -0.0], [-2.8, 7.5, -2.8, 0.0, 0.0, 0.0], [-2.8, -2.8, 7.5, 0.0, 0.0, -0.0], [0.0, 0.0, 0.0, 10.3, 0.0, 0.0], [0.0, 0.0, 0.0, 0.0, 10.3, 0.0], [-0.0, 0.0, 0.0, 0.0, 0.0, 10.3]]),\n",
       "\u001b[1mtask_id\u001b[0;0m='mp-13',\n",
       "\u001b[1mfields_not_requested\u001b[0;0m=[]\n",
       ")"
      ]
     },
     "execution_count": 29,
     "metadata": {},
     "output_type": "execute_result"
    }
   ],
   "source": [
    "bs_sc"
   ]
  },
  {
   "cell_type": "code",
   "execution_count": null,
   "metadata": {},
   "outputs": [],
   "source": []
  }
 ],
 "metadata": {
  "kernelspec": {
   "display_name": "Python 3.10.0 ('CRISP')",
   "language": "python",
   "name": "python3"
  },
  "language_info": {
   "codemirror_mode": {
    "name": "ipython",
    "version": 3
   },
   "file_extension": ".py",
   "mimetype": "text/x-python",
   "name": "python",
   "nbconvert_exporter": "python",
   "pygments_lexer": "ipython3",
   "version": "3.10.0"
  },
  "orig_nbformat": 4,
  "vscode": {
   "interpreter": {
    "hash": "f2d911c042c0b81e01ad833b8b4365a45a6c209616c3f106d59262fb56d2ad49"
   }
  }
 },
 "nbformat": 4,
 "nbformat_minor": 2
}
